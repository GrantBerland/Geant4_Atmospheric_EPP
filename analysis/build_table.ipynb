{
 "cells": [
  {
   "cell_type": "code",
   "execution_count": 1,
   "metadata": {
    "ExecuteTime": {
     "end_time": "2022-09-22T21:07:56.955414Z",
     "start_time": "2022-09-22T21:07:56.520073Z"
    }
   },
   "outputs": [],
   "source": [
    "import matplotlib.pyplot as plt\n",
    "import numpy as np\n",
    "import pandas as pd\n",
    "\n",
    "import pickle\n",
    "\n",
    "import os\n",
    "import re\n",
    "from collections import OrderedDict\n",
    "\n",
    "import seaborn as sns\n",
    "sns.set_theme(font_scale=1.5);"
   ]
  },
  {
   "cell_type": "code",
   "execution_count": 2,
   "metadata": {
    "ExecuteTime": {
     "end_time": "2022-09-22T21:07:57.002884Z",
     "start_time": "2022-09-22T21:07:56.956435Z"
    }
   },
   "outputs": [],
   "source": [
    "Earray   = np.round(np.logspace(np.log10(0.250), np.log10(10000), 100), 2)\n",
    "h        = np.linspace(0, 499, 500);\n",
    "binWidth = np.hstack([np.diff(Earray), np.diff(Earray)[-1]]);\n",
    "\n",
    "def ProcessIoniData(data):\n",
    "    \n",
    "    lineNo = 1000\n",
    "    \n",
    "    nRuns  = int(len(data)/lineNo)\n",
    "    \n",
    "    mean = np.zeros([1000])\n",
    "    std  = np.zeros([1000])\n",
    "    for i in range(0, nRuns):\n",
    "        \n",
    "        mean += data.E.values[i*lineNo:(i+1)*lineNo]\n",
    "        \n",
    "        std  += (data.E.values[i*lineNo:(i+1)*lineNo])**2\n",
    "        \n",
    "    std -= (mean/nRuns)**2\n",
    "    \n",
    "    std[std < 0] = 0\n",
    "    \n",
    "    std = np.sqrt(1/(nRuns-1) * std)\n",
    "    \n",
    "    return mean, std\n",
    "\n",
    "def ProcessSpectralData(data):\n",
    "    \n",
    "    lineNo = 1000\n",
    "    \n",
    "    nRuns  = int(len(data)/lineNo)\n",
    "    \n",
    "    data.fillna(data.mean(), inplace=True)\n",
    "\n",
    "    mean = np.zeros([lineNo, 100]);\n",
    "    std  = np.zeros([lineNo, 100]);\n",
    "    for i in range(0, nRuns):\n",
    "        mean += data.values[lineNo*i:lineNo*(i+1), :]\n",
    "        std  += (data.values[lineNo*i:lineNo*(i+1), :])**2\n",
    "        \n",
    "    std -= (mean/nRuns)**2\n",
    "    \n",
    "    std[std < 0] = 0\n",
    "    \n",
    "    std = np.sqrt(1/(nRuns-1) * std)\n",
    "    \n",
    "    return mean/binWidth, std/binWidth"
   ]
  },
  {
   "cell_type": "markdown",
   "metadata": {},
   "source": [
    "From sin(a$\\alpha$) from $\\alpha \\in [0, 45^\\circ]$,\n",
    "\n",
    "$$N_{n=1} = 2 \\pi \\int_{0}^{45^\\circ} sin^2(\\alpha)~ d\\alpha = 0.89660$$\n",
    "\n",
    "$$\\frac{1}{2\\pi N_n} \\frac{d^3 N}{dt ~dA ~d\\Omega} = f_0 \\rightarrow \\frac{N}{2\\pi N_n} = f_0$$"
   ]
  },
  {
   "cell_type": "code",
   "execution_count": 3,
   "metadata": {
    "ExecuteTime": {
     "end_time": "2022-09-22T21:07:57.013260Z",
     "start_time": "2022-09-22T21:07:57.003919Z"
    }
   },
   "outputs": [],
   "source": [
    "normFactor = 1e5 / 0.89660"
   ]
  },
  {
   "cell_type": "code",
   "execution_count": 6,
   "metadata": {
    "ExecuteTime": {
     "end_time": "2022-09-22T21:11:47.122960Z",
     "start_time": "2022-09-22T21:11:20.138165Z"
    },
    "scrolled": false
   },
   "outputs": [],
   "source": [
    "def build_table(path, energyDist):\n",
    "\n",
    "    files = os.listdir(path)\n",
    "    \n",
    "    D = OrderedDict()\n",
    "    \n",
    "    files = [f for f in files if energyDist in f]\n",
    "\n",
    "    for file in files:\n",
    "        tmp = file.split('_')\n",
    "        particle = tmp[0]\n",
    "        fileType = tmp[1]\n",
    "        E = int(re.findall(r'\\d+', file)[0])\n",
    "\n",
    "        if fileType == \"ene\":\n",
    "            fileType = \"spectra\"\n",
    "            readIn = pd.read_csv(path + file, names=Earray)\n",
    "            mean, std = np.divide(ProcessSpectralData(readIn), normFactor)\n",
    "            \n",
    "            if \"mono\" in path:\n",
    "                mean[:, Earray > E+1] = 0\n",
    "                std[:, Earray > E+1]  = 0\n",
    "            \n",
    "            mean = mean[:500, :]\n",
    "            std  = std[:500, :]\n",
    "\n",
    "        elif fileType == \"dep\":\n",
    "            fileType = \"ioni\"\n",
    "            readIn = pd.read_csv(path + file, names=['E'])\n",
    "            mean, std = np.divide(ProcessIoniData(readIn), normFactor)\n",
    "            mean = mean[:500]\n",
    "            std  = std[:500]\n",
    "\n",
    "        D[(particle, fileType, E)] = (mean, std)\n",
    "        \n",
    "    return D\n",
    "\n",
    "    \n",
    "D_mono = build_table(\"../data/lowCeiling/\", \"mono\")\n",
    "D_exp  = build_table(\"../data/lowCeiling/\", \"exp\")"
   ]
  },
  {
   "cell_type": "code",
   "execution_count": 9,
   "metadata": {
    "ExecuteTime": {
     "end_time": "2022-09-22T21:13:46.955044Z",
     "start_time": "2022-09-22T21:13:46.688166Z"
    }
   },
   "outputs": [],
   "source": [
    "filename = \"G4data_sin45_mono.pkl\"\n",
    "\n",
    "with open(filename, 'wb') as f:\n",
    "    pickle.dump(D_mono, f, protocol=pickle.HIGHEST_PROTOCOL)\n",
    "\n",
    "D_mono = pickle.load(open(filename, 'rb'))\n",
    "    \n",
    "filename = \"G4data_sin45_exp.pkl\"\n",
    "\n",
    "with open(filename, 'wb') as f:\n",
    "    pickle.dump(D_exp, f, protocol=pickle.HIGHEST_PROTOCOL)\n",
    "    \n",
    "D_exp = pickle.load(open(filename, 'rb'))\n",
    "\n",
    "    \n",
    "!cp G4data_sin45_mono.pkl G4data_sin45_exp.pkl ../../G4EPP-git/G4EPP/data/\n",
    "    \n",
    "'''\n",
    "# Test\n",
    "del D\n",
    "    \n",
    "with open(filename, 'rb') as f:\n",
    "    D = pickle.load(f)\n",
    "''';"
   ]
  },
  {
   "cell_type": "code",
   "execution_count": null,
   "metadata": {
    "ExecuteTime": {
     "end_time": "2022-09-22T21:07:57.096381Z",
     "start_time": "2022-09-22T21:07:56.519Z"
    }
   },
   "outputs": [],
   "source": [
    "runList = [10, 20, 50, 100, 200, 500, 1000, 2000, 5000, 10000]\n",
    "\n",
    "Sig = 10\n",
    "\n",
    "plt.figure(figsize=(16,8)); plt.subplot(1,2,1); plt.grid(True, which='both')\n",
    "for item in runList:\n",
    "    plt.semilogx((D_mono[('electron', 'ioni', item)][0] + D_mono[('photon', 'ioni', item)][0]), \n",
    "                 h, label=\"%.0f keV\" % item, linewidth=1);\n",
    "    \n",
    "    #plt.semilogx((D_mono[('electron', 'ioni', item)][0] + D_mono[('photon', 'ioni', item)][0]) + \n",
    "    #             Sig*(D_mono[('electron', 'ioni', item)][1] + D_mono[('photon', 'ioni', item)][1])\n",
    "    #             , h, '--');\n",
    "    #\n",
    "    #plt.semilogx((D_mono[('electron', 'ioni', item)][0] + D_mono[('photon', 'ioni', item)][0]) - \n",
    "    #             Sig*(D_mono[('electron', 'ioni', item)][1] + D_mono[('photon', 'ioni', item)][1]), \n",
    "    #             h, '--', linewidth=1);\n",
    "\n",
    "plt.xlabel('Deposited Energy [keV / km / cm$^{-2}$ sec$^{-1}$ sr$^{-1}$]');\n",
    "plt.ylabel('Altitude [km]');\n",
    "plt.legend();\n",
    "plt.ylim(0, 300);\n",
    "plt.xlim(1e-5, 1e3);\n",
    "plt.title('Monoenergetic');\n",
    "\n",
    "\n",
    "plt.subplot(1,2,2); plt.grid(True, which='both')\n",
    "for item in runList:\n",
    "    plt.semilogx((D_exp[('electron', 'ioni', item)][0] + D_exp[('photon', 'ioni', item)][0]), \n",
    "                 h, label=\"%.0f keV\" % item, linewidth=1);\n",
    "    \n",
    "    #plt.semilogx((D_exp[('electron', 'ioni', item)][0] + D_exp[('photon', 'ioni', item)][0]) + \n",
    "    #             Sig*(D_exp[('electron', 'ioni', item)][1] + D_exp[('photon', 'ioni', item)][1])\n",
    "    #             , h, '--');\n",
    "    #\n",
    "    #plt.semilogx((D_exp[('electron', 'ioni', item)][0] + D_exp[('photon', 'ioni', item)][0]) - \n",
    "    #             Sig*(D_exp[('electron', 'ioni', item)][1] + D_exp[('photon', 'ioni', item)][1]), \n",
    "    #             h, '--', linewidth=1);\n",
    "\n",
    "plt.xlabel('Deposited Energy [keV / km / cm$^{-2}$ sec$^{-1}$ sr$^{-1}$]');\n",
    "plt.ylabel('Altitude [km]');\n",
    "plt.legend();\n",
    "plt.ylim(0, 300);\n",
    "plt.xlim(1e-5, 1e3);\n",
    "plt.title('Exponential');"
   ]
  },
  {
   "cell_type": "code",
   "execution_count": null,
   "metadata": {
    "ExecuteTime": {
     "end_time": "2022-09-22T21:07:57.096823Z",
     "start_time": "2022-09-22T21:07:56.522Z"
    }
   },
   "outputs": [],
   "source": [
    "runList = [10, 20, 50, 100, 200, 500, 1000, 2000, 5000, 10000]\n",
    "\n",
    "X, Y = np.meshgrid(Earray, h)\n",
    "\n",
    "from matplotlib.colors import LogNorm\n",
    "\n",
    "Sig = 10\n",
    "\n",
    "Erun = 500\n",
    "\n",
    "plt.figure(figsize=(16,8)); plt.subplot(1,2,1); plt.grid(True, which='both')\n",
    "for item in [Erun]:\n",
    "    plt.pcolormesh(X, Y, (D_mono[('electron', 'spectra', item)][0] + D_mono[('photon', 'spectra', item)][0]), \n",
    "                 norm=LogNorm());\n",
    "    \n",
    "plt.xlabel('Deposited Energy [keV / km / cm$^{-2}$ sec$^{-1}$ sr$^{-1}$]');\n",
    "plt.ylabel('Altitude [km]');\n",
    "plt.ylim(0, 300);\n",
    "plt.xscale('log');\n",
    "plt.title('Monoenergetic');\n",
    "\n",
    "\n",
    "plt.subplot(1,2,2); plt.grid(True, which='both')\n",
    "for item in [Erun]:\n",
    "    plt.pcolormesh(X, Y, (D_exp[('electron', 'spectra', item)][0] + D_exp[('photon', 'spectra', item)][0]), \n",
    "                 norm=LogNorm());\n",
    "    \n",
    "plt.xlabel('Deposited Energy [keV / km / cm$^{-2}$ sec$^{-1}$ sr$^{-1}$]');\n",
    "plt.ylabel('Altitude [km]');\n",
    "plt.ylim(0, 300);\n",
    "plt.xscale('log');\n",
    "plt.title('Exponential');"
   ]
  }
 ],
 "metadata": {
  "kernelspec": {
   "display_name": "Python [conda env:py3] *",
   "language": "python",
   "name": "conda-env-py3-py"
  },
  "language_info": {
   "codemirror_mode": {
    "name": "ipython",
    "version": 3
   },
   "file_extension": ".py",
   "mimetype": "text/x-python",
   "name": "python",
   "nbconvert_exporter": "python",
   "pygments_lexer": "ipython3",
   "version": "3.7.3"
  },
  "varInspector": {
   "cols": {
    "lenName": 16,
    "lenType": 16,
    "lenVar": 40
   },
   "kernels_config": {
    "python": {
     "delete_cmd_postfix": "",
     "delete_cmd_prefix": "del ",
     "library": "var_list.py",
     "varRefreshCmd": "print(var_dic_list())"
    },
    "r": {
     "delete_cmd_postfix": ") ",
     "delete_cmd_prefix": "rm(",
     "library": "var_list.r",
     "varRefreshCmd": "cat(var_dic_list()) "
    }
   },
   "position": {
    "height": "657.85px",
    "left": "1537px",
    "right": "20px",
    "top": "125px",
    "width": "358px"
   },
   "types_to_exclude": [
    "module",
    "function",
    "builtin_function_or_method",
    "instance",
    "_Feature"
   ],
   "window_display": true
  }
 },
 "nbformat": 4,
 "nbformat_minor": 2
}
